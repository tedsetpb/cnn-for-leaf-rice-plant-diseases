{
  "nbformat": 4,
  "nbformat_minor": 0,
  "metadata": {
    "accelerator": "GPU",
    "colab": {
      "name": "skripsi - penyakit padi",
      "provenance": [],
      "collapsed_sections": [
        "8ulfN1OX2Nge",
        "yrLTDZVp2bEX",
        "jjmXVXt02jAi",
        "DOQdOHNk4E3D",
        "_xTBGJ0T1F0o",
        "dQQaqUZX05ld",
        "L3mJzl9Um4Ll",
        "gEPWVw7p7Xvi",
        "QzALQyxZgz6A"
      ],
      "toc_visible": true,
      "mount_file_id": "1N7u-P-EyzIIzQVtQj5mFIMjZbdAOAB2X",
      "authorship_tag": "ABX9TyMOGI0LiofIAAYors5pqkwH",
      "include_colab_link": true
    },
    "kernelspec": {
      "display_name": "Python 3",
      "name": "python3"
    },
    "widgets": {
      "application/vnd.jupyter.widget-state+json": {
        "4facd4bc4c704e1aa4867768386cde63": {
          "model_module": "@jupyter-widgets/controls",
          "model_name": "HBoxModel",
          "state": {
            "_view_name": "HBoxView",
            "_dom_classes": [],
            "_model_name": "HBoxModel",
            "_view_module": "@jupyter-widgets/controls",
            "_model_module_version": "1.5.0",
            "_view_count": null,
            "_view_module_version": "1.5.0",
            "box_style": "",
            "layout": "IPY_MODEL_db9850da2a894bb6928d9d3efedd1080",
            "_model_module": "@jupyter-widgets/controls",
            "children": [
              "IPY_MODEL_c8b8fac073c147afa467479e0396ed9b",
              "IPY_MODEL_bbd34f1eb2bd432d95214785ae2897cd"
            ]
          }
        },
        "db9850da2a894bb6928d9d3efedd1080": {
          "model_module": "@jupyter-widgets/base",
          "model_name": "LayoutModel",
          "state": {
            "_view_name": "LayoutView",
            "grid_template_rows": null,
            "right": null,
            "justify_content": null,
            "_view_module": "@jupyter-widgets/base",
            "overflow": null,
            "_model_module_version": "1.2.0",
            "_view_count": null,
            "flex_flow": null,
            "width": null,
            "min_width": null,
            "border": null,
            "align_items": null,
            "bottom": null,
            "_model_module": "@jupyter-widgets/base",
            "top": null,
            "grid_column": null,
            "overflow_y": null,
            "overflow_x": null,
            "grid_auto_flow": null,
            "grid_area": null,
            "grid_template_columns": null,
            "flex": null,
            "_model_name": "LayoutModel",
            "justify_items": null,
            "grid_row": null,
            "max_height": null,
            "align_content": null,
            "visibility": null,
            "align_self": null,
            "height": null,
            "min_height": null,
            "padding": null,
            "grid_auto_rows": null,
            "grid_gap": null,
            "max_width": null,
            "order": null,
            "_view_module_version": "1.2.0",
            "grid_template_areas": null,
            "object_position": null,
            "object_fit": null,
            "grid_auto_columns": null,
            "margin": null,
            "display": null,
            "left": null
          }
        },
        "c8b8fac073c147afa467479e0396ed9b": {
          "model_module": "@jupyter-widgets/controls",
          "model_name": "FloatProgressModel",
          "state": {
            "_view_name": "ProgressView",
            "style": "IPY_MODEL_b17c006ccdac4e648a76c073ec2e7bf4",
            "_dom_classes": [],
            "description": "",
            "_model_name": "FloatProgressModel",
            "bar_style": "success",
            "max": 1,
            "_view_module": "@jupyter-widgets/controls",
            "_model_module_version": "1.5.0",
            "value": 1,
            "_view_count": null,
            "_view_module_version": "1.5.0",
            "orientation": "horizontal",
            "min": 0,
            "description_tooltip": null,
            "_model_module": "@jupyter-widgets/controls",
            "layout": "IPY_MODEL_20c7582a72604f6e9080dd64f8947568"
          }
        },
        "bbd34f1eb2bd432d95214785ae2897cd": {
          "model_module": "@jupyter-widgets/controls",
          "model_name": "HTMLModel",
          "state": {
            "_view_name": "HTMLView",
            "style": "IPY_MODEL_0f9e422779734ce69bdda4940f188996",
            "_dom_classes": [],
            "description": "",
            "_model_name": "HTMLModel",
            "placeholder": "​",
            "_view_module": "@jupyter-widgets/controls",
            "_model_module_version": "1.5.0",
            "value": " 320/? [00:06&lt;00:00, 48.95it/s]",
            "_view_count": null,
            "_view_module_version": "1.5.0",
            "description_tooltip": null,
            "_model_module": "@jupyter-widgets/controls",
            "layout": "IPY_MODEL_f5f281241a914a40b13d585285576b98"
          }
        },
        "b17c006ccdac4e648a76c073ec2e7bf4": {
          "model_module": "@jupyter-widgets/controls",
          "model_name": "ProgressStyleModel",
          "state": {
            "_view_name": "StyleView",
            "_model_name": "ProgressStyleModel",
            "description_width": "initial",
            "_view_module": "@jupyter-widgets/base",
            "_model_module_version": "1.5.0",
            "_view_count": null,
            "_view_module_version": "1.2.0",
            "bar_color": null,
            "_model_module": "@jupyter-widgets/controls"
          }
        },
        "20c7582a72604f6e9080dd64f8947568": {
          "model_module": "@jupyter-widgets/base",
          "model_name": "LayoutModel",
          "state": {
            "_view_name": "LayoutView",
            "grid_template_rows": null,
            "right": null,
            "justify_content": null,
            "_view_module": "@jupyter-widgets/base",
            "overflow": null,
            "_model_module_version": "1.2.0",
            "_view_count": null,
            "flex_flow": null,
            "width": null,
            "min_width": null,
            "border": null,
            "align_items": null,
            "bottom": null,
            "_model_module": "@jupyter-widgets/base",
            "top": null,
            "grid_column": null,
            "overflow_y": null,
            "overflow_x": null,
            "grid_auto_flow": null,
            "grid_area": null,
            "grid_template_columns": null,
            "flex": null,
            "_model_name": "LayoutModel",
            "justify_items": null,
            "grid_row": null,
            "max_height": null,
            "align_content": null,
            "visibility": null,
            "align_self": null,
            "height": null,
            "min_height": null,
            "padding": null,
            "grid_auto_rows": null,
            "grid_gap": null,
            "max_width": null,
            "order": null,
            "_view_module_version": "1.2.0",
            "grid_template_areas": null,
            "object_position": null,
            "object_fit": null,
            "grid_auto_columns": null,
            "margin": null,
            "display": null,
            "left": null
          }
        },
        "0f9e422779734ce69bdda4940f188996": {
          "model_module": "@jupyter-widgets/controls",
          "model_name": "DescriptionStyleModel",
          "state": {
            "_view_name": "StyleView",
            "_model_name": "DescriptionStyleModel",
            "description_width": "",
            "_view_module": "@jupyter-widgets/base",
            "_model_module_version": "1.5.0",
            "_view_count": null,
            "_view_module_version": "1.2.0",
            "_model_module": "@jupyter-widgets/controls"
          }
        },
        "f5f281241a914a40b13d585285576b98": {
          "model_module": "@jupyter-widgets/base",
          "model_name": "LayoutModel",
          "state": {
            "_view_name": "LayoutView",
            "grid_template_rows": null,
            "right": null,
            "justify_content": null,
            "_view_module": "@jupyter-widgets/base",
            "overflow": null,
            "_model_module_version": "1.2.0",
            "_view_count": null,
            "flex_flow": null,
            "width": null,
            "min_width": null,
            "border": null,
            "align_items": null,
            "bottom": null,
            "_model_module": "@jupyter-widgets/base",
            "top": null,
            "grid_column": null,
            "overflow_y": null,
            "overflow_x": null,
            "grid_auto_flow": null,
            "grid_area": null,
            "grid_template_columns": null,
            "flex": null,
            "_model_name": "LayoutModel",
            "justify_items": null,
            "grid_row": null,
            "max_height": null,
            "align_content": null,
            "visibility": null,
            "align_self": null,
            "height": null,
            "min_height": null,
            "padding": null,
            "grid_auto_rows": null,
            "grid_gap": null,
            "max_width": null,
            "order": null,
            "_view_module_version": "1.2.0",
            "grid_template_areas": null,
            "object_position": null,
            "object_fit": null,
            "grid_auto_columns": null,
            "margin": null,
            "display": null,
            "left": null
          }
        }
      }
    }
  },
  "cells": [
    {
      "cell_type": "markdown",
      "metadata": {
        "id": "view-in-github",
        "colab_type": "text"
      },
      "source": [
        "<a href=\"https://colab.research.google.com/github/tedsetpb/skripsi/blob/main/skripsi_penyakit_padi.ipynb\" target=\"_parent\"><img src=\"https://colab.research.google.com/assets/colab-badge.svg\" alt=\"Open In Colab\"/></a>"
      ]
    },
    {
      "cell_type": "markdown",
      "metadata": {
        "id": "2bTFrwB21dqK"
      },
      "source": [
        "### source dataset\n",
        "\n",
        "\n",
        "\n"
      ]
    },
    {
      "cell_type": "code",
      "metadata": {
        "colab": {
          "base_uri": "https://localhost:8080/"
        },
        "id": "Nq2AYVxZXRKS",
        "outputId": "7550d6e7-2b8f-40a9-d26e-4a9ae49a2167"
      },
      "source": [
        "import os\n",
        "import pandas as pd\n",
        "\n",
        "mypath= '/content/drive/My Drive/skripsi-semoga/RD2_primerv3'\n",
        "\n",
        "file_name = []\n",
        "tag = []\n",
        "full_path = []\n",
        "for path, subdirs, files in os.walk(mypath):\n",
        "    for name in files:\n",
        "        full_path.append(os.path.join(path, name)) \n",
        "        tag.append(path.split('/')[-1])        \n",
        "        file_name.append(name)\n",
        "\n",
        "df = pd.DataFrame({\"path\":full_path,'file_name':file_name,\"tag\":tag})\n",
        "df.groupby(['tag']).size()\n"
      ],
      "execution_count": null,
      "outputs": [
        {
          "output_type": "execute_result",
          "data": {
            "text/plain": [
              "tag\n",
              "blast      80\n",
              "blight     80\n",
              "healthy    80\n",
              "tungro     80\n",
              "dtype: int64"
            ]
          },
          "metadata": {
            "tags": []
          },
          "execution_count": 32
        }
      ]
    },
    {
      "cell_type": "code",
      "metadata": {
        "colab": {
          "base_uri": "https://localhost:8080/",
          "height": 385
        },
        "id": "w3qM8cpak_zG",
        "outputId": "31f35bb8-df17-45e8-bbe5-0c716f53d308"
      },
      "source": [
        "#cek sample data\n",
        "df.head()"
      ],
      "execution_count": null,
      "outputs": [
        {
          "output_type": "execute_result",
          "data": {
            "text/html": [
              "<div>\n",
              "<style scoped>\n",
              "    .dataframe tbody tr th:only-of-type {\n",
              "        vertical-align: middle;\n",
              "    }\n",
              "\n",
              "    .dataframe tbody tr th {\n",
              "        vertical-align: top;\n",
              "    }\n",
              "\n",
              "    .dataframe thead th {\n",
              "        text-align: right;\n",
              "    }\n",
              "</style>\n",
              "<table border=\"1\" class=\"dataframe\">\n",
              "  <thead>\n",
              "    <tr style=\"text-align: right;\">\n",
              "      <th></th>\n",
              "      <th>path</th>\n",
              "      <th>file_name</th>\n",
              "      <th>tag</th>\n",
              "    </tr>\n",
              "  </thead>\n",
              "  <tbody>\n",
              "    <tr>\n",
              "      <th>0</th>\n",
              "      <td>/content/drive/My Drive/skripsi-semoga/RD2_pri...</td>\n",
              "      <td>IMG_0987.jpg</td>\n",
              "      <td>blight</td>\n",
              "    </tr>\n",
              "    <tr>\n",
              "      <th>1</th>\n",
              "      <td>/content/drive/My Drive/skripsi-semoga/RD2_pri...</td>\n",
              "      <td>IMG_0941.jpg</td>\n",
              "      <td>blight</td>\n",
              "    </tr>\n",
              "    <tr>\n",
              "      <th>2</th>\n",
              "      <td>/content/drive/My Drive/skripsi-semoga/RD2_pri...</td>\n",
              "      <td>IMG_1075.jpg</td>\n",
              "      <td>blight</td>\n",
              "    </tr>\n",
              "    <tr>\n",
              "      <th>3</th>\n",
              "      <td>/content/drive/My Drive/skripsi-semoga/RD2_pri...</td>\n",
              "      <td>IMG_0986.jpg</td>\n",
              "      <td>blight</td>\n",
              "    </tr>\n",
              "    <tr>\n",
              "      <th>4</th>\n",
              "      <td>/content/drive/My Drive/skripsi-semoga/RD2_pri...</td>\n",
              "      <td>IMG_1013.jpg</td>\n",
              "      <td>blight</td>\n",
              "    </tr>\n",
              "  </tbody>\n",
              "</table>\n",
              "</div>"
            ],
            "text/plain": [
              "                                                path     file_name     tag\n",
              "0  /content/drive/My Drive/skripsi-semoga/RD2_pri...  IMG_0987.jpg  blight\n",
              "1  /content/drive/My Drive/skripsi-semoga/RD2_pri...  IMG_0941.jpg  blight\n",
              "2  /content/drive/My Drive/skripsi-semoga/RD2_pri...  IMG_1075.jpg  blight\n",
              "3  /content/drive/My Drive/skripsi-semoga/RD2_pri...  IMG_0986.jpg  blight\n",
              "4  /content/drive/My Drive/skripsi-semoga/RD2_pri...  IMG_1013.jpg  blight"
            ]
          },
          "metadata": {
            "tags": []
          },
          "execution_count": 33
        }
      ]
    },
    {
      "cell_type": "markdown",
      "metadata": {
        "id": "TajWxKGg2BK7"
      },
      "source": [
        "\n",
        "### Train test split"
      ]
    },
    {
      "cell_type": "code",
      "metadata": {
        "id": "JpPLwUiklCZV"
      },
      "source": [
        "from sklearn.model_selection import train_test_split"
      ],
      "execution_count": null,
      "outputs": []
    },
    {
      "cell_type": "code",
      "metadata": {
        "id": "EgjAL4DDlNI8"
      },
      "source": [
        "#variabel yang digunakan pada pemisahan data ini\n",
        "X= df['path']\n",
        "y= df['tag']"
      ],
      "execution_count": null,
      "outputs": []
    },
    {
      "cell_type": "code",
      "metadata": {
        "id": "vxtEQNcJlaLA"
      },
      "source": [
        "#split dataset awal menjadi train dan test\n",
        "X_train, X_test, y_train, y_test = train_test_split(\n",
        "    X, y, test_size=0.8, stratify=y, random_state=371)"
      ],
      "execution_count": null,
      "outputs": []
    },
    {
      "cell_type": "code",
      "metadata": {
        "id": "G_Ld0mx1lhfc"
      },
      "source": [
        "#data test dibagi menjadi data test dan data validation\n",
        "X_test, X_val, y_test, y_val = train_test_split(\n",
        "    X_test, y_test, test_size=0.25, stratify=y_test, random_state=249)"
      ],
      "execution_count": null,
      "outputs": []
    },
    {
      "cell_type": "code",
      "metadata": {
        "id": "S9KOHh8Dlmwp"
      },
      "source": [
        "#menyatukan kedalam masing-masing dataframe\n",
        "df_tr = pd.DataFrame({'path':X_train\n",
        "              ,'tag':y_train\n",
        "             ,'set':'train'})\n",
        "\n",
        "df_te = pd.DataFrame({'path':X_test\n",
        "              ,'tag':y_test\n",
        "              \n",
        "             ,'set':'test'})\n",
        "\n",
        "df_val = pd.DataFrame({'path':X_val\n",
        "              ,'tag':y_val\n",
        "             ,'set':'validation'})"
      ],
      "execution_count": null,
      "outputs": []
    },
    {
      "cell_type": "code",
      "metadata": {
        "colab": {
          "base_uri": "https://localhost:8080/"
        },
        "id": "r0SI9XuwlpZo",
        "outputId": "bb056e87-4703-4854-f5e5-a1c406753ade"
      },
      "source": [
        "print('train size', len(df_tr))\n",
        "print('test size', len(df_te))\n",
        "print('val size', len(df_val))"
      ],
      "execution_count": null,
      "outputs": [
        {
          "output_type": "stream",
          "text": [
            "train size 64\n",
            "test size 192\n",
            "val size 64\n"
          ],
          "name": "stdout"
        }
      ]
    },
    {
      "cell_type": "code",
      "metadata": {
        "colab": {
          "base_uri": "https://localhost:8080/",
          "height": 698
        },
        "id": "DPZc2CNPlsT0",
        "outputId": "4acb8010-e4a1-45e3-e204-c86d5b9ab0d3"
      },
      "source": [
        "#melihat porsi masing-masing\n",
        "df_all = df_tr.append([df_te,df_val]).reset_index(drop=1)\\\n",
        "\n",
        "print('===================================================== \\n')\n",
        "print(df_all.groupby(['set','tag']).size(),'\\n')\n",
        "\n",
        "print('===================================================== \\n')\n",
        "\n",
        "#cek sample data\n",
        "df_all.sample(5)"
      ],
      "execution_count": null,
      "outputs": [
        {
          "output_type": "stream",
          "text": [
            "===================================================== \n",
            "\n",
            "set         tag    \n",
            "test        blast      48\n",
            "            blight     48\n",
            "            healthy    48\n",
            "            tungro     48\n",
            "train       blast      16\n",
            "            blight     16\n",
            "            healthy    16\n",
            "            tungro     16\n",
            "validation  blast      16\n",
            "            blight     16\n",
            "            healthy    16\n",
            "            tungro     16\n",
            "dtype: int64 \n",
            "\n",
            "===================================================== \n",
            "\n"
          ],
          "name": "stdout"
        },
        {
          "output_type": "execute_result",
          "data": {
            "text/html": [
              "<div>\n",
              "<style scoped>\n",
              "    .dataframe tbody tr th:only-of-type {\n",
              "        vertical-align: middle;\n",
              "    }\n",
              "\n",
              "    .dataframe tbody tr th {\n",
              "        vertical-align: top;\n",
              "    }\n",
              "\n",
              "    .dataframe thead th {\n",
              "        text-align: right;\n",
              "    }\n",
              "</style>\n",
              "<table border=\"1\" class=\"dataframe\">\n",
              "  <thead>\n",
              "    <tr style=\"text-align: right;\">\n",
              "      <th></th>\n",
              "      <th>path</th>\n",
              "      <th>tag</th>\n",
              "      <th>set</th>\n",
              "    </tr>\n",
              "  </thead>\n",
              "  <tbody>\n",
              "    <tr>\n",
              "      <th>66</th>\n",
              "      <td>/content/drive/My Drive/skripsi-semoga/RD2_pri...</td>\n",
              "      <td>blight</td>\n",
              "      <td>test</td>\n",
              "    </tr>\n",
              "    <tr>\n",
              "      <th>72</th>\n",
              "      <td>/content/drive/My Drive/skripsi-semoga/RD2_pri...</td>\n",
              "      <td>blast</td>\n",
              "      <td>test</td>\n",
              "    </tr>\n",
              "    <tr>\n",
              "      <th>146</th>\n",
              "      <td>/content/drive/My Drive/skripsi-semoga/RD2_pri...</td>\n",
              "      <td>blast</td>\n",
              "      <td>test</td>\n",
              "    </tr>\n",
              "    <tr>\n",
              "      <th>303</th>\n",
              "      <td>/content/drive/My Drive/skripsi-semoga/RD2_pri...</td>\n",
              "      <td>tungro</td>\n",
              "      <td>validation</td>\n",
              "    </tr>\n",
              "    <tr>\n",
              "      <th>122</th>\n",
              "      <td>/content/drive/My Drive/skripsi-semoga/RD2_pri...</td>\n",
              "      <td>tungro</td>\n",
              "      <td>test</td>\n",
              "    </tr>\n",
              "  </tbody>\n",
              "</table>\n",
              "</div>"
            ],
            "text/plain": [
              "                                                  path     tag         set\n",
              "66   /content/drive/My Drive/skripsi-semoga/RD2_pri...  blight        test\n",
              "72   /content/drive/My Drive/skripsi-semoga/RD2_pri...   blast        test\n",
              "146  /content/drive/My Drive/skripsi-semoga/RD2_pri...   blast        test\n",
              "303  /content/drive/My Drive/skripsi-semoga/RD2_pri...  tungro  validation\n",
              "122  /content/drive/My Drive/skripsi-semoga/RD2_pri...  tungro        test"
            ]
          },
          "metadata": {
            "tags": []
          },
          "execution_count": 77
        }
      ]
    },
    {
      "cell_type": "code",
      "metadata": {
        "colab": {
          "base_uri": "https://localhost:8080/"
        },
        "id": "x6v7Ataue4wc",
        "outputId": "e58208de-8af4-49dc-d365-79547e83d89c"
      },
      "source": [
        "print(X_train.shape, y_train.shape)\n",
        "print(X_test.shape, y_test.shape)"
      ],
      "execution_count": null,
      "outputs": [
        {
          "output_type": "stream",
          "text": [
            "(64,) (64,)\n",
            "(192,) (192,)\n"
          ],
          "name": "stdout"
        }
      ]
    },
    {
      "cell_type": "markdown",
      "metadata": {
        "id": "8ulfN1OX2Nge"
      },
      "source": [
        "### Merapihkan ke folder set masing-masing"
      ]
    },
    {
      "cell_type": "code",
      "metadata": {
        "id": "9oyit1qal2Oz"
      },
      "source": [
        "import shutil\n",
        "from tqdm.notebook import tqdm as tq"
      ],
      "execution_count": null,
      "outputs": []
    },
    {
      "cell_type": "code",
      "metadata": {
        "id": "qy02QU_omLSo"
      },
      "source": [
        "#lokasi dataset yang telah dibuat\n",
        "datasource_path = \"RD2_primerv3/\"\n",
        "dataset_path = \"dataset/\""
      ],
      "execution_count": null,
      "outputs": []
    },
    {
      "cell_type": "code",
      "metadata": {
        "colab": {
          "base_uri": "https://localhost:8080/",
          "height": 138,
          "referenced_widgets": [
            "4facd4bc4c704e1aa4867768386cde63",
            "db9850da2a894bb6928d9d3efedd1080",
            "c8b8fac073c147afa467479e0396ed9b",
            "bbd34f1eb2bd432d95214785ae2897cd",
            "b17c006ccdac4e648a76c073ec2e7bf4",
            "20c7582a72604f6e9080dd64f8947568",
            "0f9e422779734ce69bdda4940f188996",
            "f5f281241a914a40b13d585285576b98"
          ]
        },
        "id": "raqLlD3Km5bh",
        "outputId": "944cc085-36a7-4d6d-af31-2bd8e0db1922"
      },
      "source": [
        "for index, row in tq(df_all.iterrows()):\n",
        "    \n",
        "    #detect filepath\n",
        "    file_path = row['path']\n",
        "    if os.path.exists(file_path) == False:\n",
        "            file_path = os.path.join(datasource_path,row['tag'],row['image'].split('.')[0])            \n",
        "    \n",
        "    #make folder destination dirs\n",
        "    if os.path.exists(os.path.join(dataset_path,row['set'],row['tag'])) == False:\n",
        "        os.makedirs(os.path.join(dataset_path,row['set'],row['tag']))\n",
        "    \n",
        "    #define file dest\n",
        "    destination_file_name = file_path.split('/')[-1]\n",
        "    file_dest = os.path.join(dataset_path,row['set'],row['tag'],destination_file_name)\n",
        "    \n",
        "    #copy file from source to dest\n",
        "    if os.path.exists(file_dest) == False:\n",
        "        shutil.copy2(file_path,file_dest)"
      ],
      "execution_count": null,
      "outputs": [
        {
          "output_type": "display_data",
          "data": {
            "application/vnd.jupyter.widget-view+json": {
              "model_id": "4facd4bc4c704e1aa4867768386cde63",
              "version_minor": 0,
              "version_major": 2
            },
            "text/plain": [
              "HBox(children=(FloatProgress(value=1.0, bar_style='info', max=1.0), HTML(value='')))"
            ]
          },
          "metadata": {
            "tags": []
          }
        },
        {
          "output_type": "stream",
          "text": [
            "\n"
          ],
          "name": "stdout"
        }
      ]
    },
    {
      "cell_type": "markdown",
      "metadata": {
        "id": "Gly2MCkG-rQl"
      },
      "source": [
        "## Pre-processing"
      ]
    },
    {
      "cell_type": "markdown",
      "metadata": {
        "id": "yrLTDZVp2bEX"
      },
      "source": [
        "### resize"
      ]
    },
    {
      "cell_type": "code",
      "metadata": {
        "id": "239BOOFGx5et"
      },
      "source": [
        "import tensorflow as tf"
      ],
      "execution_count": null,
      "outputs": []
    },
    {
      "cell_type": "code",
      "metadata": {
        "id": "PKtX8R1nyC5K"
      },
      "source": [
        "# input size\n",
        "dim = (224, 224)\n",
        "channel = (3, )\n",
        "input_shape = dim + channel\n",
        "\n",
        "#batch size\n",
        "batch_size = 16\n",
        "\n",
        "#Epoch\n",
        "epoch = 30\n",
        "\n",
        "#learning rate\n",
        "lr = 0.0001"
      ],
      "execution_count": null,
      "outputs": []
    },
    {
      "cell_type": "markdown",
      "metadata": {
        "id": "jjmXVXt02jAi"
      },
      "source": [
        "## Data Augmentation"
      ]
    },
    {
      "cell_type": "code",
      "metadata": {
        "id": "Dn82yUxcyHE4"
      },
      "source": [
        "from tensorflow.keras.preprocessing.image import ImageDataGenerator, img_to_array, load_img"
      ],
      "execution_count": null,
      "outputs": []
    },
    {
      "cell_type": "code",
      "metadata": {
        "id": "DgXS04pdyKKk"
      },
      "source": [
        "train_datagen = ImageDataGenerator(rescale=1. / 255,\n",
        "                                   shear_range=0.2,\n",
        "                                   zoom_range=0.2,\n",
        "                                   width_shift_range=0.2,\n",
        "                                   height_shift_range=0.2,\n",
        "                                   rotation_range=45,\n",
        "                                   horizontal_flip=True)\n",
        "\n",
        "val_datagen = ImageDataGenerator(rescale=1. / 255)\n",
        "\n",
        "test_datagen = ImageDataGenerator(rescale=1. / 255)"
      ],
      "execution_count": null,
      "outputs": []
    },
    {
      "cell_type": "code",
      "metadata": {
        "colab": {
          "base_uri": "https://localhost:8080/"
        },
        "id": "t1mNqk51yNR8",
        "outputId": "528eeab5-9d22-45b9-d362-19da45869296"
      },
      "source": [
        "train_generator = train_datagen.flow_from_directory('dataset/train/',\n",
        "                                                    target_size=dim,\n",
        "                                                    batch_size=batch_size,\n",
        "                                                    class_mode='categorical',\n",
        "                                                    shuffle=True)\n",
        "\n",
        "val_generator = val_datagen.flow_from_directory('dataset/validation/',\n",
        "                                                target_size=dim,\n",
        "                                                batch_size=batch_size,\n",
        "                                                class_mode='categorical',\n",
        "                                                shuffle=True)\n",
        "\n",
        "test_generator = test_datagen.flow_from_directory('dataset/test/',\n",
        "                                                  target_size=dim,\n",
        "                                                  batch_size=batch_size,\n",
        "                                                  class_mode='categorical',\n",
        "                                                  shuffle=False)\n",
        "\n",
        "num_class = test_generator.num_classes\n",
        "labels = train_generator.class_indices.keys()"
      ],
      "execution_count": null,
      "outputs": [
        {
          "output_type": "stream",
          "text": [
            "Found 128 images belonging to 4 classes.\n",
            "Found 135 images belonging to 4 classes.\n",
            "Found 245 images belonging to 4 classes.\n"
          ],
          "name": "stdout"
        }
      ]
    },
    {
      "cell_type": "code",
      "metadata": {
        "colab": {
          "base_uri": "https://localhost:8080/"
        },
        "id": "P1jEEz7QyTpg",
        "outputId": "664b3c7c-2e58-4789-b7fc-91d42d73506f"
      },
      "source": [
        "print(labels)"
      ],
      "execution_count": null,
      "outputs": [
        {
          "output_type": "stream",
          "text": [
            "dict_keys(['blast', 'blight', 'healthy', 'tungro'])\n"
          ],
          "name": "stdout"
        }
      ]
    },
    {
      "cell_type": "code",
      "metadata": {
        "colab": {
          "base_uri": "https://localhost:8080/"
        },
        "id": "A2v2ftEaoZNh",
        "outputId": "82e06c60-f1bf-4418-e0ba-229ced19092e"
      },
      "source": [
        "print(num_class)"
      ],
      "execution_count": null,
      "outputs": [
        {
          "output_type": "stream",
          "text": [
            "4\n"
          ],
          "name": "stdout"
        }
      ]
    },
    {
      "cell_type": "markdown",
      "metadata": {
        "id": "dVQFXuUg3FtY"
      },
      "source": [
        "Membuat tf.data untuk kompabilitas yang lebih baik untuk tensorflow 2.1 (tf.keras)"
      ]
    },
    {
      "cell_type": "code",
      "metadata": {
        "id": "JIcsD09syZ41"
      },
      "source": [
        "def tf_data_generator(generator, input_shape):\n",
        "    num_class = generator.num_classes\n",
        "    tf_generator = tf.data.Dataset.from_generator(\n",
        "        lambda: generator,\n",
        "        output_types=(tf.float32, tf.float32),\n",
        "        output_shapes=([None\n",
        "                        , input_shape[0]\n",
        "                        , input_shape[1]\n",
        "                        , input_shape[2]]\n",
        "                       ,[None, num_class])\n",
        "    )\n",
        "    return tf_generator"
      ],
      "execution_count": null,
      "outputs": []
    },
    {
      "cell_type": "code",
      "metadata": {
        "id": "o2XjID9CyiH4"
      },
      "source": [
        "train_data = tf_data_generator(train_generator, input_shape)\n",
        "test_data = tf_data_generator(test_generator, input_shape)\n",
        "val_data = tf_data_generator(val_generator, input_shape)"
      ],
      "execution_count": null,
      "outputs": []
    },
    {
      "cell_type": "markdown",
      "metadata": {
        "id": "OYdc1GdKyrvO"
      },
      "source": [
        "## Build model cnn"
      ]
    },
    {
      "cell_type": "code",
      "metadata": {
        "id": "oLYBQaVlykLu"
      },
      "source": [
        "from tensorflow.keras import layers, Sequential, optimizers\n",
        "from tensorflow.keras.models import Model\n",
        "from tensorflow.keras.layers import Conv2D, Activation, MaxPooling2D, Dropout, Flatten, Dense, GlobalAveragePooling2D, AveragePooling2D, Input, DepthwiseConv2D, SeparableConv2D\n",
        "from keras.layers.normalization import BatchNormalization\n",
        "import math  \n",
        "import datetime\n",
        "import time"
      ],
      "execution_count": null,
      "outputs": []
    },
    {
      "cell_type": "markdown",
      "metadata": {
        "id": "Vv6VkY9rVv4k"
      },
      "source": [
        "### VGG16"
      ]
    },
    {
      "cell_type": "code",
      "metadata": {
        "id": "LRT3noOvVu3W"
      },
      "source": [
        "vgg16 = tf.keras.applications.VGG16(include_top=False,\n",
        "                                    #weights='imagenet',\n",
        "                                    input_shape=input_shape,\n",
        "                                    classes=num_class)"
      ],
      "execution_count": null,
      "outputs": []
    },
    {
      "cell_type": "code",
      "metadata": {
        "id": "1ZEIr4HDV5En"
      },
      "source": [
        "#Adding custom layers\n",
        "x = vgg16.layers[-5].output\n",
        "#x = vgg16.output\n",
        "x = layers.Flatten()(x)\n",
        "x = layers.Dense(64, activation=\"relu\")(x)\n",
        "#x = layers.Dropout(0.25)(x)\n",
        "\n",
        "predictions = layers.Dense(num_class, activation=\"softmax\")(x)\n",
        "model = Model(inputs=vgg16.input, outputs=predictions)"
      ],
      "execution_count": null,
      "outputs": []
    },
    {
      "cell_type": "code",
      "metadata": {
        "colab": {
          "base_uri": "https://localhost:8080/"
        },
        "id": "bnaYe7JJV5M8",
        "outputId": "cfb484e4-9050-4e2c-866e-693385e643f9"
      },
      "source": [
        "model.summary()"
      ],
      "execution_count": null,
      "outputs": [
        {
          "output_type": "stream",
          "text": [
            "Model: \"model\"\n",
            "_________________________________________________________________\n",
            "Layer (type)                 Output Shape              Param #   \n",
            "=================================================================\n",
            "input_1 (InputLayer)         [(None, 224, 224, 3)]     0         \n",
            "_________________________________________________________________\n",
            "block1_conv1 (Conv2D)        (None, 224, 224, 64)      1792      \n",
            "_________________________________________________________________\n",
            "block1_conv2 (Conv2D)        (None, 224, 224, 64)      36928     \n",
            "_________________________________________________________________\n",
            "block1_pool (MaxPooling2D)   (None, 112, 112, 64)      0         \n",
            "_________________________________________________________________\n",
            "block2_conv1 (Conv2D)        (None, 112, 112, 128)     73856     \n",
            "_________________________________________________________________\n",
            "block2_conv2 (Conv2D)        (None, 112, 112, 128)     147584    \n",
            "_________________________________________________________________\n",
            "block2_pool (MaxPooling2D)   (None, 56, 56, 128)       0         \n",
            "_________________________________________________________________\n",
            "block3_conv1 (Conv2D)        (None, 56, 56, 256)       295168    \n",
            "_________________________________________________________________\n",
            "block3_conv2 (Conv2D)        (None, 56, 56, 256)       590080    \n",
            "_________________________________________________________________\n",
            "block3_conv3 (Conv2D)        (None, 56, 56, 256)       590080    \n",
            "_________________________________________________________________\n",
            "block3_pool (MaxPooling2D)   (None, 28, 28, 256)       0         \n",
            "_________________________________________________________________\n",
            "block4_conv1 (Conv2D)        (None, 28, 28, 512)       1180160   \n",
            "_________________________________________________________________\n",
            "block4_conv2 (Conv2D)        (None, 28, 28, 512)       2359808   \n",
            "_________________________________________________________________\n",
            "block4_conv3 (Conv2D)        (None, 28, 28, 512)       2359808   \n",
            "_________________________________________________________________\n",
            "block4_pool (MaxPooling2D)   (None, 14, 14, 512)       0         \n",
            "_________________________________________________________________\n",
            "flatten (Flatten)            (None, 100352)            0         \n",
            "_________________________________________________________________\n",
            "dense (Dense)                (None, 64)                6422592   \n",
            "_________________________________________________________________\n",
            "dense_1 (Dense)              (None, 4)                 260       \n",
            "=================================================================\n",
            "Total params: 14,058,116\n",
            "Trainable params: 14,058,116\n",
            "Non-trainable params: 0\n",
            "_________________________________________________________________\n"
          ],
          "name": "stdout"
        }
      ]
    },
    {
      "cell_type": "code",
      "metadata": {
        "colab": {
          "base_uri": "https://localhost:8080/"
        },
        "id": "p6qRHRjUV5Tz",
        "outputId": "8c10d9b3-2f01-4160-fe7b-7a1dd6257861"
      },
      "source": [
        "# Compile the model\n",
        "print('Compiling Model.......')\n",
        "model.compile(tf.keras.optimizers.Adam(learning_rate=0.0001),\n",
        "              loss='categorical_crossentropy',\n",
        "              metrics=['accuracy'])"
      ],
      "execution_count": null,
      "outputs": [
        {
          "output_type": "stream",
          "text": [
            "Compiling Model.......\n"
          ],
          "name": "stdout"
        }
      ]
    },
    {
      "cell_type": "markdown",
      "metadata": {
        "id": "DOQdOHNk4E3D"
      },
      "source": [
        "## Visualize architecture model"
      ]
    },
    {
      "cell_type": "code",
      "metadata": {
        "id": "5AmZurA3z6WA"
      },
      "source": [
        "import tensorflow as tf"
      ],
      "execution_count": null,
      "outputs": []
    },
    {
      "cell_type": "code",
      "metadata": {
        "colab": {
          "base_uri": "https://localhost:8080/"
        },
        "id": "6Y-aFl1-0BA8",
        "outputId": "9ed22855-f95f-4bca-8394-cafa3a67dc2d"
      },
      "source": [
        "model_viz = tf.keras.utils.plot_model(model,\n",
        "                          to_file='xception.png',\n",
        "                          show_shapes=True,\n",
        "                          show_layer_names=True,\n",
        "                          rankdir='TB',\n",
        "                          expand_nested=True,\n",
        "                          dpi=55)\n",
        "model_viz"
      ],
      "execution_count": null,
      "outputs": [
        {
          "output_type": "execute_result",
          "data": {
            "image/png": "[encoded data removed]",
            "text/plain": [
              "<IPython.core.display.Image object>"
            ]
          },
          "metadata": {
            "tags": []
          },
          "execution_count": 29
        }
      ]
    },
    {
      "cell_type": "markdown",
      "metadata": {
        "id": "OBjuCspy0Mge"
      },
      "source": [
        "## Train Model"
      ]
    },
    {
      "cell_type": "code",
      "metadata": {
        "colab": {
          "base_uri": "https://localhost:8080/"
        },
        "id": "3pr6PAyu-Wgb",
        "outputId": "27c5bcc2-7d00-4571-9ebb-8acc1df05e96"
      },
      "source": [
        "start = datetime.datetime.now()\n",
        "\n",
        "history = model.fit(x=train_data,\n",
        "        steps_per_epoch=len(train_generator),\n",
        "        epochs=30,\n",
        "        validation_data=val_data,\n",
        "        validation_steps=len(val_generator), \n",
        "        shuffle=True,\n",
        "        verbose=1)\n",
        "\n",
        "end= datetime.datetime.now()\n",
        "elapsed= end-start\n",
        "print ('Time: ', elapsed)"
      ],
      "execution_count": null,
      "outputs": [
        {
          "output_type": "stream",
          "text": [
            "Epoch 1/30\n",
            "12/12 [==============================] - 50s 1s/step - loss: 1.9602 - accuracy: 0.3385 - val_loss: 1.2867 - val_accuracy: 0.3125\n",
            "Epoch 2/30\n",
            "12/12 [==============================] - 13s 1s/step - loss: 1.0812 - accuracy: 0.4948 - val_loss: 1.1917 - val_accuracy: 0.4375\n",
            "Epoch 3/30\n",
            "12/12 [==============================] - 13s 1s/step - loss: 1.0406 - accuracy: 0.5365 - val_loss: 1.0346 - val_accuracy: 0.4375\n",
            "Epoch 4/30\n",
            "12/12 [==============================] - 13s 1s/step - loss: 0.7670 - accuracy: 0.6823 - val_loss: 0.6376 - val_accuracy: 0.6250\n",
            "Epoch 5/30\n",
            "12/12 [==============================] - 13s 1s/step - loss: 0.7592 - accuracy: 0.6875 - val_loss: 0.5874 - val_accuracy: 0.7812\n",
            "Epoch 6/30\n",
            "12/12 [==============================] - 13s 1s/step - loss: 0.4802 - accuracy: 0.8177 - val_loss: 0.3168 - val_accuracy: 0.8750\n",
            "Epoch 7/30\n",
            "12/12 [==============================] - 13s 1s/step - loss: 0.3483 - accuracy: 0.8542 - val_loss: 0.1745 - val_accuracy: 0.9062\n",
            "Epoch 8/30\n",
            "12/12 [==============================] - 13s 1s/step - loss: 0.3245 - accuracy: 0.8802 - val_loss: 0.2720 - val_accuracy: 0.8438\n",
            "Epoch 9/30\n",
            "12/12 [==============================] - 13s 1s/step - loss: 0.2740 - accuracy: 0.9010 - val_loss: 0.1566 - val_accuracy: 0.9688\n",
            "Epoch 10/30\n",
            "12/12 [==============================] - 13s 1s/step - loss: 0.1212 - accuracy: 0.9635 - val_loss: 0.0997 - val_accuracy: 0.9375\n",
            "Epoch 11/30\n",
            "12/12 [==============================] - 13s 1s/step - loss: 0.5041 - accuracy: 0.8333 - val_loss: 0.1317 - val_accuracy: 0.9688\n",
            "Epoch 12/30\n",
            "12/12 [==============================] - 13s 1s/step - loss: 0.3125 - accuracy: 0.9010 - val_loss: 0.1119 - val_accuracy: 0.9688\n",
            "Epoch 13/30\n",
            "12/12 [==============================] - 13s 1s/step - loss: 0.1353 - accuracy: 0.9531 - val_loss: 0.2133 - val_accuracy: 0.9062\n",
            "Epoch 14/30\n",
            "12/12 [==============================] - 13s 1s/step - loss: 0.1621 - accuracy: 0.9479 - val_loss: 0.3745 - val_accuracy: 0.9375\n",
            "Epoch 15/30\n",
            "12/12 [==============================] - 13s 1s/step - loss: 0.1341 - accuracy: 0.9531 - val_loss: 0.1541 - val_accuracy: 0.9688\n",
            "Epoch 16/30\n",
            "12/12 [==============================] - 13s 1s/step - loss: 0.1445 - accuracy: 0.9531 - val_loss: 0.1590 - val_accuracy: 0.9375\n",
            "Epoch 17/30\n",
            "12/12 [==============================] - 13s 1s/step - loss: 0.0840 - accuracy: 0.9740 - val_loss: 0.0706 - val_accuracy: 0.9688\n",
            "Epoch 18/30\n",
            "12/12 [==============================] - 13s 1s/step - loss: 0.2084 - accuracy: 0.9531 - val_loss: 0.6914 - val_accuracy: 0.9062\n",
            "Epoch 19/30\n",
            "12/12 [==============================] - 13s 1s/step - loss: 0.1626 - accuracy: 0.9479 - val_loss: 0.0397 - val_accuracy: 0.9688\n",
            "Epoch 20/30\n",
            "12/12 [==============================] - 13s 1s/step - loss: 0.1376 - accuracy: 0.9531 - val_loss: 0.0419 - val_accuracy: 1.0000\n",
            "Epoch 21/30\n",
            "12/12 [==============================] - 13s 1s/step - loss: 0.1098 - accuracy: 0.9688 - val_loss: 0.0169 - val_accuracy: 1.0000\n",
            "Epoch 22/30\n",
            "12/12 [==============================] - 13s 1s/step - loss: 0.0503 - accuracy: 0.9740 - val_loss: 0.0307 - val_accuracy: 0.9688\n",
            "Epoch 23/30\n",
            "12/12 [==============================] - 13s 1s/step - loss: 0.0277 - accuracy: 0.9948 - val_loss: 0.0211 - val_accuracy: 1.0000\n",
            "Epoch 24/30\n",
            "12/12 [==============================] - 13s 1s/step - loss: 0.0086 - accuracy: 1.0000 - val_loss: 0.0051 - val_accuracy: 1.0000\n",
            "Epoch 25/30\n",
            "12/12 [==============================] - 13s 1s/step - loss: 0.0352 - accuracy: 0.9948 - val_loss: 0.2242 - val_accuracy: 0.9688\n",
            "Epoch 26/30\n",
            "12/12 [==============================] - 13s 1s/step - loss: 0.0438 - accuracy: 0.9844 - val_loss: 0.0317 - val_accuracy: 0.9688\n",
            "Epoch 27/30\n",
            "12/12 [==============================] - 13s 1s/step - loss: 0.0302 - accuracy: 0.9844 - val_loss: 0.0758 - val_accuracy: 0.9688\n",
            "Epoch 28/30\n",
            "12/12 [==============================] - 13s 1s/step - loss: 0.0040 - accuracy: 1.0000 - val_loss: 0.0293 - val_accuracy: 0.9688\n",
            "Epoch 29/30\n",
            "12/12 [==============================] - 13s 1s/step - loss: 0.0068 - accuracy: 1.0000 - val_loss: 0.0150 - val_accuracy: 1.0000\n",
            "Epoch 30/30\n",
            "12/12 [==============================] - 13s 1s/step - loss: 0.0032 - accuracy: 1.0000 - val_loss: 0.0015 - val_accuracy: 1.0000\n",
            "Time:  0:07:22.767433\n"
          ],
          "name": "stdout"
        }
      ]
    },
    {
      "cell_type": "code",
      "metadata": {
        "colab": {
          "base_uri": "https://localhost:8080/"
        },
        "id": "nfMcWTjT0T69",
        "outputId": "51a42305-800a-4930-e35d-021c4654a5eb"
      },
      "source": [
        "history.history['loss']"
      ],
      "execution_count": null,
      "outputs": [
        {
          "output_type": "execute_result",
          "data": {
            "text/plain": [
              "[1.960158348083496,\n",
              " 1.081223726272583,\n",
              " 1.0406365394592285,\n",
              " 0.766959011554718,\n",
              " 0.7591962814331055,\n",
              " 0.4802228510379791,\n",
              " 0.348254919052124,\n",
              " 0.32452723383903503,\n",
              " 0.274044007062912,\n",
              " 0.12119994312524796,\n",
              " 0.5040672421455383,\n",
              " 0.31252363324165344,\n",
              " 0.135294109582901,\n",
              " 0.16212011873722076,\n",
              " 0.13412092626094818,\n",
              " 0.14446936547756195,\n",
              " 0.08401267975568771,\n",
              " 0.20843718945980072,\n",
              " 0.16259567439556122,\n",
              " 0.13764165341854095,\n",
              " 0.10980672389268875,\n",
              " 0.05032214894890785,\n",
              " 0.027727454900741577,\n",
              " 0.008629716001451015,\n",
              " 0.035206299275159836,\n",
              " 0.04382016882300377,\n",
              " 0.03019551932811737,\n",
              " 0.003952504601329565,\n",
              " 0.006819222122430801,\n",
              " 0.0031509799882769585]"
            ]
          },
          "metadata": {
            "tags": []
          },
          "execution_count": 31
        }
      ]
    },
    {
      "cell_type": "code",
      "metadata": {
        "colab": {
          "base_uri": "https://localhost:8080/"
        },
        "id": "V3A08B-Q0nU2",
        "outputId": "744d907a-ebe7-41fa-867e-b37c38e00c0a"
      },
      "source": [
        "history.history['accuracy']"
      ],
      "execution_count": null,
      "outputs": [
        {
          "output_type": "execute_result",
          "data": {
            "text/plain": [
              "[0.3385416567325592,\n",
              " 0.4947916567325592,\n",
              " 0.5364583134651184,\n",
              " 0.6822916865348816,\n",
              " 0.6875,\n",
              " 0.8177083134651184,\n",
              " 0.8541666865348816,\n",
              " 0.8802083134651184,\n",
              " 0.9010416865348816,\n",
              " 0.9635416865348816,\n",
              " 0.8333333134651184,\n",
              " 0.9010416865348816,\n",
              " 0.953125,\n",
              " 0.9479166865348816,\n",
              " 0.953125,\n",
              " 0.953125,\n",
              " 0.9739583134651184,\n",
              " 0.953125,\n",
              " 0.9479166865348816,\n",
              " 0.953125,\n",
              " 0.96875,\n",
              " 0.9739583134651184,\n",
              " 0.9947916865348816,\n",
              " 1.0,\n",
              " 0.9947916865348816,\n",
              " 0.984375,\n",
              " 0.984375,\n",
              " 1.0,\n",
              " 1.0,\n",
              " 1.0]"
            ]
          },
          "metadata": {
            "tags": []
          },
          "execution_count": 32
        }
      ]
    },
    {
      "cell_type": "markdown",
      "metadata": {
        "id": "Dc5ycE4K0q6z"
      },
      "source": [
        "### Plot the training"
      ]
    },
    {
      "cell_type": "code",
      "metadata": {
        "id": "xghLlo780pzu"
      },
      "source": [
        "from matplotlib import pyplot as plt"
      ],
      "execution_count": null,
      "outputs": []
    },
    {
      "cell_type": "code",
      "metadata": {
        "colab": {
          "base_uri": "https://localhost:8080/",
          "height": 240
        },
        "id": "i4R6luvh0xy2",
        "outputId": "a7500726-71f5-4d54-bc79-4a866eead952"
      },
      "source": [
        "# Plot history: MAE\n",
        "plt.plot(history.history['loss'], label='Training Loss')\n",
        "plt.plot(history.history['val_loss'], label='Validation Loss')\n",
        "plt.title('Training and Validation Loss')\n",
        "plt.ylabel('value')\n",
        "plt.xlabel('No. epoch')\n",
        "plt.legend(loc=\"upper left\")\n",
        "plt.show()"
      ],
      "execution_count": null,
      "outputs": [
        {
          "output_type": "error",
          "ename": "NameError",
          "evalue": "ignored",
          "traceback": [
            "\u001b[0;31m---------------------------------------------------------------------------\u001b[0m",
            "\u001b[0;31mNameError\u001b[0m                                 Traceback (most recent call last)",
            "\u001b[0;32m<ipython-input-34-6e0b4cef6cc2>\u001b[0m in \u001b[0;36m<module>\u001b[0;34m()\u001b[0m\n\u001b[1;32m      1\u001b[0m \u001b[0;31m# Plot history: MAE\u001b[0m\u001b[0;34m\u001b[0m\u001b[0;34m\u001b[0m\u001b[0;34m\u001b[0m\u001b[0m\n\u001b[0;32m----> 2\u001b[0;31m \u001b[0mplt\u001b[0m\u001b[0;34m.\u001b[0m\u001b[0mplot\u001b[0m\u001b[0;34m(\u001b[0m\u001b[0mhistory\u001b[0m\u001b[0;34m.\u001b[0m\u001b[0mhistory\u001b[0m\u001b[0;34m[\u001b[0m\u001b[0;34m'loss'\u001b[0m\u001b[0;34m]\u001b[0m\u001b[0;34m,\u001b[0m \u001b[0mlabel\u001b[0m\u001b[0;34m=\u001b[0m\u001b[0;34m'Training Loss'\u001b[0m\u001b[0;34m)\u001b[0m\u001b[0;34m\u001b[0m\u001b[0;34m\u001b[0m\u001b[0m\n\u001b[0m\u001b[1;32m      3\u001b[0m \u001b[0mplt\u001b[0m\u001b[0;34m.\u001b[0m\u001b[0mplot\u001b[0m\u001b[0;34m(\u001b[0m\u001b[0mhistory\u001b[0m\u001b[0;34m.\u001b[0m\u001b[0mhistory\u001b[0m\u001b[0;34m[\u001b[0m\u001b[0;34m'val_loss'\u001b[0m\u001b[0;34m]\u001b[0m\u001b[0;34m,\u001b[0m \u001b[0mlabel\u001b[0m\u001b[0;34m=\u001b[0m\u001b[0;34m'Validation Loss'\u001b[0m\u001b[0;34m)\u001b[0m\u001b[0;34m\u001b[0m\u001b[0;34m\u001b[0m\u001b[0m\n\u001b[1;32m      4\u001b[0m \u001b[0mplt\u001b[0m\u001b[0;34m.\u001b[0m\u001b[0mtitle\u001b[0m\u001b[0;34m(\u001b[0m\u001b[0;34m'Training and Validation Loss'\u001b[0m\u001b[0;34m)\u001b[0m\u001b[0;34m\u001b[0m\u001b[0;34m\u001b[0m\u001b[0m\n\u001b[1;32m      5\u001b[0m \u001b[0mplt\u001b[0m\u001b[0;34m.\u001b[0m\u001b[0mylabel\u001b[0m\u001b[0;34m(\u001b[0m\u001b[0;34m'value'\u001b[0m\u001b[0;34m)\u001b[0m\u001b[0;34m\u001b[0m\u001b[0;34m\u001b[0m\u001b[0m\n",
            "\u001b[0;31mNameError\u001b[0m: name 'history' is not defined"
          ]
        }
      ]
    },
    {
      "cell_type": "code",
      "metadata": {
        "colab": {
          "base_uri": "https://localhost:8080/",
          "height": 294
        },
        "id": "nO1_wG310yMW",
        "outputId": "24ff39ce-1a8c-45b6-a00f-0bdcc94309f9"
      },
      "source": [
        "# Plot history: MSE\n",
        "plt.plot(history.history['accuracy'], label='Training Accuracy')\n",
        "plt.plot(history.history['val_accuracy'], label='Validation Accuracy')\n",
        "plt.title('Training Accuracy')\n",
        "plt.ylabel('value')\n",
        "plt.xlabel('Number of epoch')\n",
        "plt.legend(loc=\"upper left\")\n",
        "plt.show()"
      ],
      "execution_count": null,
      "outputs": [
        {
          "output_type": "display_data",
          "data": {
            "image/png": "[encoded data removed]",
            "text/plain": [
              "<Figure size 432x288 with 1 Axes>"
            ]
          },
          "metadata": {
            "tags": [],
            "needs_background": "light"
          }
        }
      ]
    },
    {
      "cell_type": "markdown",
      "metadata": {
        "id": "_xTBGJ0T1F0o"
      },
      "source": [
        "### Evaluate the Model"
      ]
    },
    {
      "cell_type": "code",
      "metadata": {
        "colab": {
          "base_uri": "https://localhost:8080/",
          "height": 388
        },
        "id": "KPq3-zHQ0-uL",
        "outputId": "35034075-cba6-41cd-c5be-b3f076530c63"
      },
      "source": [
        "loss, acc = model.evaluate(train_data,steps=len(train_generator),verbose=0)\n",
        "print('Accuracy on training data: {:.4f} \\nLoss on training data: {:.4f}'.format(acc,loss),'\\n')\n",
        "\n",
        "loss, acc = model.evaluate(test_data,steps=len(test_generator),verbose=0)\n",
        "print('Accuracy on test data: {:.4f} \\nLoss on test data: {:.4f}'.format(acc,loss),'\\n')"
      ],
      "execution_count": null,
      "outputs": [
        {
          "output_type": "error",
          "ename": "RuntimeError",
          "evalue": "ignored",
          "traceback": [
            "\u001b[0;31m---------------------------------------------------------------------------\u001b[0m",
            "\u001b[0;31mRuntimeError\u001b[0m                              Traceback (most recent call last)",
            "\u001b[0;32m<ipython-input-32-44f0a3796486>\u001b[0m in \u001b[0;36m<module>\u001b[0;34m()\u001b[0m\n\u001b[0;32m----> 1\u001b[0;31m \u001b[0mloss\u001b[0m\u001b[0;34m,\u001b[0m \u001b[0macc\u001b[0m \u001b[0;34m=\u001b[0m \u001b[0mmodel\u001b[0m\u001b[0;34m.\u001b[0m\u001b[0mevaluate\u001b[0m\u001b[0;34m(\u001b[0m\u001b[0mtrain_data\u001b[0m\u001b[0;34m,\u001b[0m\u001b[0msteps\u001b[0m\u001b[0;34m=\u001b[0m\u001b[0mlen\u001b[0m\u001b[0;34m(\u001b[0m\u001b[0mtrain_generator\u001b[0m\u001b[0;34m)\u001b[0m\u001b[0;34m,\u001b[0m\u001b[0mverbose\u001b[0m\u001b[0;34m=\u001b[0m\u001b[0;36m0\u001b[0m\u001b[0;34m)\u001b[0m\u001b[0;34m\u001b[0m\u001b[0;34m\u001b[0m\u001b[0m\n\u001b[0m\u001b[1;32m      2\u001b[0m \u001b[0mprint\u001b[0m\u001b[0;34m(\u001b[0m\u001b[0;34m'Accuracy on training data: {:.4f} \\nLoss on training data: {:.4f}'\u001b[0m\u001b[0;34m.\u001b[0m\u001b[0mformat\u001b[0m\u001b[0;34m(\u001b[0m\u001b[0macc\u001b[0m\u001b[0;34m,\u001b[0m\u001b[0mloss\u001b[0m\u001b[0;34m)\u001b[0m\u001b[0;34m,\u001b[0m\u001b[0;34m'\\n'\u001b[0m\u001b[0;34m)\u001b[0m\u001b[0;34m\u001b[0m\u001b[0;34m\u001b[0m\u001b[0m\n\u001b[1;32m      3\u001b[0m \u001b[0;34m\u001b[0m\u001b[0m\n\u001b[1;32m      4\u001b[0m \u001b[0mloss\u001b[0m\u001b[0;34m,\u001b[0m \u001b[0macc\u001b[0m \u001b[0;34m=\u001b[0m \u001b[0mmodel\u001b[0m\u001b[0;34m.\u001b[0m\u001b[0mevaluate\u001b[0m\u001b[0;34m(\u001b[0m\u001b[0mtest_data\u001b[0m\u001b[0;34m,\u001b[0m\u001b[0msteps\u001b[0m\u001b[0;34m=\u001b[0m\u001b[0mlen\u001b[0m\u001b[0;34m(\u001b[0m\u001b[0mtest_generator\u001b[0m\u001b[0;34m)\u001b[0m\u001b[0;34m,\u001b[0m\u001b[0mverbose\u001b[0m\u001b[0;34m=\u001b[0m\u001b[0;36m0\u001b[0m\u001b[0;34m)\u001b[0m\u001b[0;34m\u001b[0m\u001b[0;34m\u001b[0m\u001b[0m\n\u001b[1;32m      5\u001b[0m \u001b[0mprint\u001b[0m\u001b[0;34m(\u001b[0m\u001b[0;34m'Accuracy on test data: {:.4f} \\nLoss on test data: {:.4f}'\u001b[0m\u001b[0;34m.\u001b[0m\u001b[0mformat\u001b[0m\u001b[0;34m(\u001b[0m\u001b[0macc\u001b[0m\u001b[0;34m,\u001b[0m\u001b[0mloss\u001b[0m\u001b[0;34m)\u001b[0m\u001b[0;34m,\u001b[0m\u001b[0;34m'\\n'\u001b[0m\u001b[0;34m)\u001b[0m\u001b[0;34m\u001b[0m\u001b[0;34m\u001b[0m\u001b[0m\n",
            "\u001b[0;32m/usr/local/lib/python3.7/dist-packages/tensorflow/python/keras/engine/training.py\u001b[0m in \u001b[0;36mevaluate\u001b[0;34m(self, x, y, batch_size, verbose, sample_weight, steps, callbacks, max_queue_size, workers, use_multiprocessing, return_dict, **kwargs)\u001b[0m\n\u001b[1;32m   1434\u001b[0m     \u001b[0mbase_layer\u001b[0m\u001b[0;34m.\u001b[0m\u001b[0mkeras_api_gauge\u001b[0m\u001b[0;34m.\u001b[0m\u001b[0mget_cell\u001b[0m\u001b[0;34m(\u001b[0m\u001b[0;34m'evaluate'\u001b[0m\u001b[0;34m)\u001b[0m\u001b[0;34m.\u001b[0m\u001b[0mset\u001b[0m\u001b[0;34m(\u001b[0m\u001b[0;32mTrue\u001b[0m\u001b[0;34m)\u001b[0m\u001b[0;34m\u001b[0m\u001b[0;34m\u001b[0m\u001b[0m\n\u001b[1;32m   1435\u001b[0m     \u001b[0mversion_utils\u001b[0m\u001b[0;34m.\u001b[0m\u001b[0mdisallow_legacy_graph\u001b[0m\u001b[0;34m(\u001b[0m\u001b[0;34m'Model'\u001b[0m\u001b[0;34m,\u001b[0m \u001b[0;34m'evaluate'\u001b[0m\u001b[0;34m)\u001b[0m\u001b[0;34m\u001b[0m\u001b[0;34m\u001b[0m\u001b[0m\n\u001b[0;32m-> 1436\u001b[0;31m     \u001b[0mself\u001b[0m\u001b[0;34m.\u001b[0m\u001b[0m_assert_compile_was_called\u001b[0m\u001b[0;34m(\u001b[0m\u001b[0;34m)\u001b[0m\u001b[0;34m\u001b[0m\u001b[0;34m\u001b[0m\u001b[0m\n\u001b[0m\u001b[1;32m   1437\u001b[0m     \u001b[0mself\u001b[0m\u001b[0;34m.\u001b[0m\u001b[0m_check_call_args\u001b[0m\u001b[0;34m(\u001b[0m\u001b[0;34m'evaluate'\u001b[0m\u001b[0;34m)\u001b[0m\u001b[0;34m\u001b[0m\u001b[0;34m\u001b[0m\u001b[0m\n\u001b[1;32m   1438\u001b[0m     \u001b[0m_disallow_inside_tf_function\u001b[0m\u001b[0;34m(\u001b[0m\u001b[0;34m'evaluate'\u001b[0m\u001b[0;34m)\u001b[0m\u001b[0;34m\u001b[0m\u001b[0;34m\u001b[0m\u001b[0m\n",
            "\u001b[0;32m/usr/local/lib/python3.7/dist-packages/tensorflow/python/keras/engine/training.py\u001b[0m in \u001b[0;36m_assert_compile_was_called\u001b[0;34m(self)\u001b[0m\n\u001b[1;32m   2691\u001b[0m     \u001b[0;31m# (i.e. whether the model is built and its inputs/outputs are set).\u001b[0m\u001b[0;34m\u001b[0m\u001b[0;34m\u001b[0m\u001b[0;34m\u001b[0m\u001b[0m\n\u001b[1;32m   2692\u001b[0m     \u001b[0;32mif\u001b[0m \u001b[0;32mnot\u001b[0m \u001b[0mself\u001b[0m\u001b[0;34m.\u001b[0m\u001b[0m_is_compiled\u001b[0m\u001b[0;34m:\u001b[0m\u001b[0;34m\u001b[0m\u001b[0;34m\u001b[0m\u001b[0m\n\u001b[0;32m-> 2693\u001b[0;31m       raise RuntimeError('You must compile your model before '\n\u001b[0m\u001b[1;32m   2694\u001b[0m                          \u001b[0;34m'training/testing. '\u001b[0m\u001b[0;34m\u001b[0m\u001b[0;34m\u001b[0m\u001b[0m\n\u001b[1;32m   2695\u001b[0m                          'Use `model.compile(optimizer, loss)`.')\n",
            "\u001b[0;31mRuntimeError\u001b[0m: You must compile your model before training/testing. Use `model.compile(optimizer, loss)`."
          ]
        }
      ]
    },
    {
      "cell_type": "markdown",
      "metadata": {
        "id": "dQQaqUZX05ld"
      },
      "source": [
        "### Save Model"
      ]
    },
    {
      "cell_type": "code",
      "metadata": {
        "id": "9_75dOM00ya7"
      },
      "source": [
        "import os"
      ],
      "execution_count": null,
      "outputs": []
    },
    {
      "cell_type": "code",
      "metadata": {
        "id": "cieeFKU60y3s"
      },
      "source": [
        "MODEL_BASE_PATH = \"model\"\n",
        "PROJECT_NAME = \"skripsi\"\n",
        "SAVE_MODEL_NAME = \"VGG16_modified_v6_29may.h5\"\n",
        "save_model_path = os.path.join(MODEL_BASE_PATH, PROJECT_NAME, SAVE_MODEL_NAME)\n",
        "\n",
        "if os.path.exists(os.path.join(MODEL_BASE_PATH, PROJECT_NAME)) == False:\n",
        "    os.makedirs(os.path.join(MODEL_BASE_PATH, PROJECT_NAME))\n",
        "    \n",
        "print('Saving Model At {}...'.format(save_model_path))\n",
        "model.save(save_model_path,include_optimizer=False)"
      ],
      "execution_count": null,
      "outputs": []
    },
    {
      "cell_type": "code",
      "metadata": {
        "id": "brNynVjJ0-k8"
      },
      "source": [
        ""
      ],
      "execution_count": null,
      "outputs": []
    },
    {
      "cell_type": "markdown",
      "metadata": {
        "id": "L3mJzl9Um4Ll"
      },
      "source": [
        "## Load Model"
      ]
    },
    {
      "cell_type": "code",
      "metadata": {
        "id": "zAJTzIVynGyx"
      },
      "source": [
        "from tensorflow.keras.models import load_model"
      ],
      "execution_count": null,
      "outputs": []
    },
    {
      "cell_type": "code",
      "metadata": {
        "id": "XMwy8dTNnELu"
      },
      "source": [
        "MODEL_PATH = '/content/drive/MyDrive/skripsi-semoga/VGG16_modified_v6_100_29may.h5'\n",
        "model = load_model(MODEL_PATH,compile=False)"
      ],
      "execution_count": null,
      "outputs": []
    },
    {
      "cell_type": "markdown",
      "metadata": {
        "id": "FpSsM0gnesaY"
      },
      "source": [
        "## confusion matrix"
      ]
    },
    {
      "cell_type": "code",
      "metadata": {
        "id": "kYMb7bect6kN"
      },
      "source": [
        "from IPython.display import display\n",
        "from google.colab.patches import cv2_imshow\n",
        "import matplotlib.pyplot as plt\n",
        "import seaborn as sn\n",
        "import itertools\n",
        "import numpy as np\n",
        "from PIL import Image\n",
        "from sklearn.metrics import classification_report, confusion_matrix\n",
        "%matplotlib inline"
      ],
      "execution_count": null,
      "outputs": []
    },
    {
      "cell_type": "code",
      "metadata": {
        "colab": {
          "base_uri": "https://localhost:8080/"
        },
        "id": "Eii9l5gvtndG",
        "outputId": "ca398850-4b36-4785-a637-02b4582902f8"
      },
      "source": [
        "Y_pred = model.predict(test_generator)\n",
        "y_pred = np.argmax(Y_pred, axis=1)\n",
        "y_pred"
      ],
      "execution_count": null,
      "outputs": [
        {
          "output_type": "execute_result",
          "data": {
            "text/plain": [
              "array([0, 0, 0, 0, 0, 0, 0, 0, 0, 0, 0, 0, 0, 0, 0, 0, 0, 0, 0, 0, 0, 0,\n",
              "       0, 0, 0, 0, 0, 0, 0, 0, 0, 0, 0, 0, 0, 0, 0, 0, 0, 0, 0, 0, 0, 0,\n",
              "       0, 0, 0, 0, 0, 0, 0, 0, 0, 0, 0, 0, 0, 0, 0, 0, 3, 1, 1, 1, 1, 1,\n",
              "       1, 1, 1, 1, 1, 1, 1, 1, 1, 1, 1, 1, 1, 1, 1, 1, 1, 1, 1, 1, 1, 1,\n",
              "       1, 1, 1, 1, 1, 1, 1, 1, 1, 1, 1, 1, 1, 1, 1, 1, 1, 1, 1, 1, 1, 1,\n",
              "       1, 1, 1, 1, 1, 1, 1, 1, 1, 1, 1, 2, 2, 2, 2, 2, 2, 2, 2, 2, 2, 2,\n",
              "       2, 2, 2, 2, 2, 2, 2, 2, 2, 2, 2, 2, 2, 2, 2, 2, 2, 2, 2, 2, 2, 2,\n",
              "       2, 2, 2, 2, 2, 2, 2, 2, 2, 2, 2, 2, 2, 2, 2, 2, 2, 2, 2, 2, 2, 2,\n",
              "       2, 2, 2, 2, 2, 2, 2, 2, 3, 3, 3, 3, 3, 3, 3, 3, 3, 3, 3, 3, 3, 3,\n",
              "       3, 3, 3, 3, 3, 3, 3, 3, 3, 3, 3, 3, 3, 3, 3, 3, 3, 3, 3, 3, 3, 3,\n",
              "       3, 3, 3, 3, 3, 3, 3, 3, 3, 3, 3, 3, 3, 3, 3, 3, 3, 3, 3, 3, 3, 3,\n",
              "       3, 3, 3])"
            ]
          },
          "metadata": {
            "tags": []
          },
          "execution_count": 96
        }
      ]
    },
    {
      "cell_type": "code",
      "metadata": {
        "colab": {
          "base_uri": "https://localhost:8080/"
        },
        "id": "tFJmfhlCNAFQ",
        "outputId": "7ea64f54-54ca-4060-fd08-288a923881d2"
      },
      "source": [
        "y_true = test_generator.classes\n",
        "y_true"
      ],
      "execution_count": null,
      "outputs": [
        {
          "output_type": "execute_result",
          "data": {
            "text/plain": [
              "array([0, 0, 0, 0, 0, 0, 0, 0, 0, 0, 0, 0, 0, 0, 0, 0, 0, 0, 0, 0, 0, 0,\n",
              "       0, 0, 0, 0, 0, 0, 0, 0, 0, 0, 0, 0, 0, 0, 0, 0, 0, 0, 0, 0, 0, 0,\n",
              "       0, 0, 0, 0, 0, 0, 0, 0, 0, 0, 0, 0, 0, 0, 0, 0, 1, 1, 1, 1, 1, 1,\n",
              "       1, 1, 1, 1, 1, 1, 1, 1, 1, 1, 1, 1, 1, 1, 1, 1, 1, 1, 1, 1, 1, 1,\n",
              "       1, 1, 1, 1, 1, 1, 1, 1, 1, 1, 1, 1, 1, 1, 1, 1, 1, 1, 1, 1, 1, 1,\n",
              "       1, 1, 1, 1, 1, 1, 1, 1, 1, 1, 1, 2, 2, 2, 2, 2, 2, 2, 2, 2, 2, 2,\n",
              "       2, 2, 2, 2, 2, 2, 2, 2, 2, 2, 2, 2, 2, 2, 2, 2, 2, 2, 2, 2, 2, 2,\n",
              "       2, 2, 2, 2, 2, 2, 2, 2, 2, 2, 2, 2, 2, 2, 2, 2, 2, 2, 2, 2, 2, 2,\n",
              "       2, 2, 2, 2, 2, 2, 2, 2, 3, 3, 3, 3, 3, 3, 3, 3, 3, 3, 3, 3, 3, 3,\n",
              "       3, 3, 3, 3, 3, 3, 3, 3, 3, 3, 3, 3, 3, 3, 3, 3, 3, 3, 3, 3, 3, 3,\n",
              "       3, 3, 3, 3, 3, 3, 3, 3, 3, 3, 3, 3, 3, 3, 3, 3, 3, 3, 3, 3, 3, 3,\n",
              "       3, 3, 3], dtype=int32)"
            ]
          },
          "metadata": {
            "tags": []
          },
          "execution_count": 97
        }
      ]
    },
    {
      "cell_type": "code",
      "metadata": {
        "colab": {
          "base_uri": "https://localhost:8080/"
        },
        "id": "VtnXn2e9vzUj",
        "outputId": "75b61ec1-a4ef-4399-ffc3-42922e8cc438"
      },
      "source": [
        "print('Classification Report')\n",
        "target_names = test_generator.classes\n",
        "class_labels = list(test_generator.class_indices.keys())   \n",
        "report = classification_report(target_names, y_pred, target_names=class_labels)\n",
        "print(report) "
      ],
      "execution_count": null,
      "outputs": [
        {
          "output_type": "stream",
          "text": [
            "Classification Report\n",
            "              precision    recall  f1-score   support\n",
            "\n",
            "       blast       1.00      1.00      1.00        60\n",
            "      blight       1.00      0.98      0.99        61\n",
            "     healthy       1.00      1.00      1.00        63\n",
            "      tungro       0.98      1.00      0.99        61\n",
            "\n",
            "    accuracy                           1.00       245\n",
            "   macro avg       1.00      1.00      1.00       245\n",
            "weighted avg       1.00      1.00      1.00       245\n",
            "\n"
          ],
          "name": "stdout"
        }
      ]
    },
    {
      "cell_type": "code",
      "metadata": {
        "colab": {
          "base_uri": "https://localhost:8080/",
          "height": 296
        },
        "id": "zHCJS9RTRf1q",
        "outputId": "5cd92987-2261-422f-e737-0ce11e82811d"
      },
      "source": [
        "#Confusion Matrix\n",
        "def plot_confusion_matrix(cm, classes,\n",
        "                          normalize=False,\n",
        "                          title='Confusion matrix',\n",
        "                          cmap=plt.cm.Blues):\n",
        "\n",
        "    plt.imshow(cm, interpolation='nearest', cmap=cmap)\n",
        "    plt.title(title)\n",
        "    plt.colorbar()\n",
        "    tick_marks = np.arange(len(classes))\n",
        "    plt.xticks(tick_marks, classes, rotation=30)\n",
        "    plt.yticks(tick_marks, classes)\n",
        "\n",
        "    fmt = '.2f' if normalize else 'd'\n",
        "    thresh = cm.max() / 2.\n",
        "    for i, j in itertools.product(range(cm.shape[0]), range(cm.shape[1])):\n",
        "        plt.text(j, i, format(cm[i, j], fmt),\n",
        "                 horizontalalignment=\"center\",\n",
        "                 color=\"white\" if cm[i, j] > thresh else \"black\")\n",
        "\n",
        "    plt.ylabel('True label')\n",
        "    plt.xlabel('Predicted label')\n",
        "    plt.tight_layout()\n",
        "\n",
        "\n",
        "# Compute confusion matrix\n",
        "cnf_matrix = confusion_matrix(y_true, y_pred)\n",
        "np.set_printoptions(precision=2)\n",
        "\n",
        "# Plot non-normalized confusion matrix\n",
        "plt.figure()\n",
        "plot_confusion_matrix(cnf_matrix, classes=['blast','blight','healthy','tungro'],\n",
        "                      title='Confusion matrix')"
      ],
      "execution_count": null,
      "outputs": [
        {
          "output_type": "display_data",
          "data": {
            "image/png": "[encoded data removed]",
            "text/plain": [
              "<Figure size 432x288 with 2 Axes>"
            ]
          },
          "metadata": {
            "tags": [],
            "needs_background": "light"
          }
        }
      ]
    },
    {
      "cell_type": "code",
      "metadata": {
        "colab": {
          "base_uri": "https://localhost:8080/",
          "height": 312
        },
        "id": "qTXy32fSvgkC",
        "outputId": "da20101a-4f7f-46a4-f78a-607f8d68c80b"
      },
      "source": [
        "#Confusion Matrix\n",
        "def plot_confusion_matrix(cm, classes,\n",
        "                          normalize=True,\n",
        "                          title='Confusion matrix',\n",
        "                          cmap=plt.cm.Blues):\n",
        "    \"\"\"\n",
        "    This function prints and plots the confusion matrix.\n",
        "    Normalization can be applied by setting `normalize=True`.\n",
        "    \"\"\"\n",
        "    if normalize:\n",
        "        cm = cm.astype('float') / cm.sum(axis=1)[:, np.newaxis]\n",
        "        print(\"Normalized confusion matrix\")\n",
        "    else:\n",
        "        print('Confusion matrix, without normalization')\n",
        "\n",
        "  \n",
        "    plt.imshow(cm, interpolation='nearest', cmap=cmap)\n",
        "    plt.title(title)\n",
        "    plt.colorbar()\n",
        "    tick_marks = np.arange(len(classes))\n",
        "    plt.xticks(tick_marks, classes, rotation=30)\n",
        "    plt.yticks(tick_marks, classes)\n",
        "\n",
        "    fmt = '.2f' if normalize else 'd'\n",
        "    thresh = cm.max() / 2.\n",
        "    for i, j in itertools.product(range(cm.shape[0]), range(cm.shape[1])):\n",
        "        plt.text(j, i, format(cm[i, j], fmt),\n",
        "                 horizontalalignment=\"center\",\n",
        "                 color=\"white\" if cm[i, j] > thresh else \"black\")\n",
        "\n",
        "    plt.ylabel('True label')\n",
        "    plt.xlabel('Predicted label')\n",
        "    plt.tight_layout()\n",
        "\n",
        "\n",
        "# Compute confusion matrix\n",
        "cnf_matrix = confusion_matrix(y_true, y_pred)\n",
        "np.set_printoptions(precision=2)\n",
        "\n",
        "# Plot non-normalized confusion matrix\n",
        "plt.figure()\n",
        "plot_confusion_matrix(cnf_matrix, classes=['blast','blight','healthy','tungro'],\n",
        "                      title='Confusion matrix')"
      ],
      "execution_count": null,
      "outputs": [
        {
          "output_type": "stream",
          "text": [
            "Normalized confusion matrix\n"
          ],
          "name": "stdout"
        },
        {
          "output_type": "display_data",
          "data": {
            "image/png": "[encoded data removed]",
            "text/plain": [
              "<Figure size 432x288 with 2 Axes>"
            ]
          },
          "metadata": {
            "tags": [],
            "needs_background": "light"
          }
        }
      ]
    },
    {
      "cell_type": "markdown",
      "metadata": {
        "id": "gEPWVw7p7Xvi"
      },
      "source": [
        "## Membuat fungsi prediksi"
      ]
    },
    {
      "cell_type": "markdown",
      "metadata": {
        "id": "92h02Viu7brm"
      },
      "source": [
        "define params and lib"
      ]
    },
    {
      "cell_type": "code",
      "metadata": {
        "id": "-8c3zjxP0-3Y"
      },
      "source": [
        "import requests\n",
        "from io import BytesIO\n",
        "import cv2\n",
        "import math  \n",
        "import datetime\n",
        "import time\n",
        "\n",
        "from PIL import Image\n",
        "import numpy as np"
      ],
      "execution_count": null,
      "outputs": []
    },
    {
      "cell_type": "code",
      "metadata": {
        "id": "A0arJ9oP0_CM"
      },
      "source": [
        "# Parameters\n",
        "input_size1 = (224,224)\n",
        "#input_size1 = (299,299)\n",
        "#define input shape\n",
        "channel = (3,)\n",
        "input_shape = input_size1 + channel\n",
        "\n",
        "#define labels\n",
        "labels = ['blast', 'blight', 'healthy', 'tungro']"
      ],
      "execution_count": null,
      "outputs": []
    },
    {
      "cell_type": "markdown",
      "metadata": {
        "id": "KK1sJpm_7m_z"
      },
      "source": [
        "define preprocess function"
      ]
    },
    {
      "cell_type": "code",
      "metadata": {
        "id": "KsOIgMjS0_KY"
      },
      "source": [
        "def preprocess(img,input_size):\n",
        "    nimg = img.convert('RGB').resize(input_size1, resample= 0)\n",
        "    img_arr = (np.array(nimg))/255\n",
        "    return img_arr\n",
        "\n",
        "def reshape(imgs_arr):\n",
        "    return np.stack(imgs_arr, axis=0)"
      ],
      "execution_count": null,
      "outputs": []
    },
    {
      "cell_type": "markdown",
      "metadata": {
        "id": "JkiZ32fc7_63"
      },
      "source": [
        "### Predict the image"
      ]
    },
    {
      "cell_type": "code",
      "metadata": {
        "id": "_7baYuWt9biJ",
        "colab": {
          "base_uri": "https://localhost:8080/",
          "height": 263
        },
        "outputId": "e6ddeadc-ab46-4d79-d6da-47bc08646e92"
      },
      "source": [
        "im = Image.open('/content/dataset/test/blight/IMG_0834.jpg')\n",
        "X = preprocess(im,input_size1)\n",
        "X = reshape([X])\n",
        "y = model.predict(X)\n",
        "\n",
        "print( labels[np.argmax(y)], np.max(y))\n",
        "fig = plt.imshow(im)\n",
        "plt.axis('off')\n",
        "fig.axes.get_xaxis().set_visible(False)\n",
        "fig.axes.get_yaxis().set_visible(False)"
      ],
      "execution_count": null,
      "outputs": [
        {
          "output_type": "stream",
          "text": [
            "tungro 0.73984045\n"
          ],
          "name": "stdout"
        },
        {
          "output_type": "display_data",
          "data": {
            "image/png": "[encoded data removed]",
            "text/plain": [
              "<Figure size 432x288 with 1 Axes>"
            ]
          },
          "metadata": {
            "tags": [],
            "needs_background": "light"
          }
        }
      ]
    },
    {
      "cell_type": "markdown",
      "metadata": {
        "id": "DooDrWXmRydt"
      },
      "source": [
        "## show augmented image\n"
      ]
    },
    {
      "cell_type": "code",
      "metadata": {
        "id": "rKsW8615bJlw"
      },
      "source": [
        "from keras.preprocessing.image import ImageDataGenerator\n",
        "from skimage import io\n",
        "\n",
        "x = io.imread('/content/dataset/train/blast/IMG_0448.jpg')\n",
        "x = x.reshape((1, ) + x.shape)\n",
        "i = 0\n",
        "for batch in train_datagen.flow(x, batch_size=16,\n",
        "                                save_to_dir='/content/dataset/augmented',\n",
        "                                save_prefix='aug',\n",
        "                                save_format='jpg'): \n",
        "  i += 1    \n",
        "  if i > 6:        \n",
        "     break"
      ],
      "execution_count": null,
      "outputs": []
    },
    {
      "cell_type": "code",
      "metadata": {
        "id": "rnnfyo4iR4W3"
      },
      "source": [
        "def read_image(file_path):\n",
        "    print(\"[INFO] loading and preprocessing image…\") \n",
        "    image = load_img(file_path, target_size=(224, 224))\n",
        "    image = preprocess(image, input_shape)\n",
        "    image = reshape(image)\n",
        "    image = img_to_array(image)\n",
        "    image = np.expand_dims(image, axis=0)\n",
        "    image /= 255. \n",
        "    #image = image.reshape(1, 224, 224, 3)\n",
        "    return image"
      ],
      "execution_count": null,
      "outputs": []
    },
    {
      "cell_type": "code",
      "metadata": {
        "id": "kHW_ir6qMfwI"
      },
      "source": [
        "def test_single_image(path):\n",
        "    diseases = ['blast', 'blight', 'healthy', 'tungro']\n",
        "    images = read_image(path)\n",
        "    time.sleep(.5)\n",
        "    bt_prediction = model.predict(images) \n",
        "    #preds = model.predict(bt_prediction)\n",
        "    for idx, diseases, x in zip(range(0,6), diseases, bt_prediction[0]):\n",
        "        print(\"ID: {}, Label: {} {}%\".format(idx, diseases, round(x*100,2)))\n",
        "    print('Final Decision:')\n",
        "    time.sleep(.5)\n",
        "    for x in range(3):\n",
        "        print('.'*(x+1))\n",
        "        time.sleep(.2)\n",
        "    class_predicted = model.predict(bt_prediction)\n",
        "    class_dictionary = generator_top.class_indices \n",
        "    inv_map = {v: k for k, v in class_dictionary.items()} \n",
        "    print(\"ID: {}, Label: {}\".format(class_predicted[0],  inv_map[class_predicted[0]])) \n",
        "    return load_img(path)"
      ],
      "execution_count": null,
      "outputs": []
    },
    {
      "cell_type": "code",
      "metadata": {
        "id": "JdAPxe5zRzTs"
      },
      "source": [
        "path = '/content/dataset/test/blight/IMG_1002.jpg'"
      ],
      "execution_count": null,
      "outputs": []
    },
    {
      "cell_type": "code",
      "metadata": {
        "id": "AU-4RtXxECHU"
      },
      "source": [
        "test_single_image(path)"
      ],
      "execution_count": null,
      "outputs": []
    },
    {
      "cell_type": "code",
      "metadata": {
        "id": "TKpGbtF9RzND"
      },
      "source": [
        "plt.imshow(path)"
      ],
      "execution_count": null,
      "outputs": []
    },
    {
      "cell_type": "markdown",
      "metadata": {
        "id": "QzALQyxZgz6A"
      },
      "source": [
        "## show filter"
      ]
    },
    {
      "cell_type": "code",
      "metadata": {
        "id": "B9QrGigRgkcA"
      },
      "source": [
        "def plotFilters(conv_filter):\n",
        "    fig, axes = plt.subplots(1, 3, figsize=(5,5))\n",
        "    axes = axes.flatten()\n",
        "    for img, ax in zip( conv_filter, axes):\n",
        "        ax.imshow(img)\n",
        "        ax.axis('off')\n",
        "    plt.tight_layout()\n",
        "    plt.show()"
      ],
      "execution_count": null,
      "outputs": []
    },
    {
      "cell_type": "code",
      "metadata": {
        "id": "KDnoXE6Hg6Hg"
      },
      "source": [
        "for layer in model.layers:\n",
        "    if 'conv' in layer.name:\n",
        "        filters, bias= layer.get_weights()\n",
        "        print(layer.name, filters.shape)\n",
        "        #normalize filter values between  0 and 1 for visualization\n",
        "        f_min, f_max = filters.min(), filters.max()\n",
        "        filters = (filters - f_min) / (f_max - f_min)  \n",
        "        print(filters.shape[3])\n",
        "        axis_x=1\n",
        "        #plotting all the filters\n",
        "        for i in range(filters.shape[3]):\n",
        "        #for i in range(6):\n",
        "            #get the filters\n",
        "            filt=filters[:,:,:, i]\n",
        "            plotFilters(filt)"
      ],
      "execution_count": null,
      "outputs": []
    },
    {
      "cell_type": "code",
      "metadata": {
        "id": "TYWjYg4ChCSB"
      },
      "source": [
        "#Iterate thru all the layers of the model\n",
        "for layer in model.layers:\n",
        "    if 'conv' in layer.name:\n",
        "        weights, bias= layer.get_weights()\n",
        "        print(layer.name, filters.shape)\n",
        "        \n",
        "        #normalize filter values between  0 and 1 for visualization\n",
        "        f_min, f_max = weights.min(), weights.max()\n",
        "        filters = (weights - f_min) / (f_max - f_min)  \n",
        "        print(filters.shape[3])\n",
        "        filter_cnt=1\n",
        "        \n",
        "        #plotting all the filters\n",
        "        for i in range(filters.shape[3]):\n",
        "            #get the filters\n",
        "            filt=filters[:,:,:, i]\n",
        "            #plotting each of the channel, color image RGB channels\n",
        "            for j in range(filters.shape[0]):\n",
        "                ax= plt.subplot(filters.shape[3], filters.shape[0], filter_cnt  )\n",
        "                ax.set_xticks([])\n",
        "                ax.set_yticks([])\n",
        "                plt.imshow(filt[:,:, j])\n",
        "                filter_cnt+=1\n",
        "        plt.show()"
      ],
      "execution_count": null,
      "outputs": []
    },
    {
      "cell_type": "code",
      "metadata": {
        "id": "EeUAFmAXhHIh"
      },
      "source": [
        "#Visualizing the filters\n",
        "#plt.figure(figsize=(5,5))\n",
        "for layer in model.layers:\n",
        "    if 'conv' in layer.name:\n",
        "        weights, bias= layer.get_weights()\n",
        "        print(layer.name, weights.shape)\n",
        "         #normalize filter values between  0 and 1 for visualization\n",
        "        f_min, f_max = weights.min(), weights.max()\n",
        "        filters = (weights - f_min) / (f_max - f_min)  \n",
        "        print(weights.shape[3])\n",
        "        filter_cnt=1\n",
        "        #plotting all the filters\n",
        "        for i in range(filters.shape[3]):\n",
        "        #for i in range(6):\n",
        "            #get the filters\n",
        "            filt=filters[:,:,:, i]\n",
        "            #plotting ecah channel\n",
        "            for j in range(filters.shape[0]):\n",
        "                #plt.figure( figsize=(5, 5) )\n",
        "                #f = plt.figure(figsize=(10,10))\n",
        "                ax= plt.subplot(filters.shape[3], filters.shape[0], filter_cnt  )\n",
        "                ax.set_xticks([])\n",
        "                ax.set_yticks([])\n",
        "                plt.imshow(filt[:,:, j])\n",
        "                filter_cnt+=1\n",
        "        plt.show()"
      ],
      "execution_count": null,
      "outputs": []
    },
    {
      "cell_type": "code",
      "metadata": {
        "id": "ixI99irghNDg"
      },
      "source": [
        "img_path='/content/dataset/test/blast/IMG_0536.jpg' \n",
        "# Define a new Model, Input= image \n",
        "# Output= intermediate representations for all layers in the  \n",
        "# previous model after the first.\n",
        "successive_outputs = [layer.output for layer in model.layers[1:]]\n",
        "\n",
        "#visualization_model = Model(img_input, successive_outputs)\n",
        "visualization_model = tf.keras.models.Model(inputs = model.input, outputs = successive_outputs)\n",
        "\n",
        "#Load the input image\n",
        "img = load_img(img_path, target_size=(224, 224))\n",
        "\n",
        "# Convert ht image to Array of dimension (299,299,3)\n",
        "x   = img_to_array(img)                           \n",
        "x   = x.reshape((1,) + x.shape)\n",
        "\n",
        "# Rescale by 1/255\n",
        "x /= 255.0\n",
        "\n",
        "# Let's run input image through our vislauization network\n",
        "# to obtain all intermediate representations for the image.\n",
        "successive_feature_maps = visualization_model.predict(x)\n",
        "\n",
        "# Retrieve are the names of the layers, so can have them as part of our plot\n",
        "layer_names = [layer.name for layer in model.layers]\n",
        "for layer_name, feature_map in zip(layer_names, successive_feature_maps):\n",
        "  print(feature_map.shape)\n",
        "  if len(feature_map.shape) == 4:\n",
        "    \n",
        "    # Plot Feature maps for the conv / maxpool layers, not the fully-connected layers\n",
        "   \n",
        "    n_features = feature_map.shape[-1]  # number of features in the feature map\n",
        "    size       = feature_map.shape[ 1]  # feature map shape (1, size, size, n_features)\n",
        "    \n",
        "    # We will tile our images in this matrix\n",
        "    display_grid = np.zeros((size, size * n_features))\n",
        "    \n",
        "    # Postprocess the feature to be visually palatable\n",
        "    for i in range(n_features):\n",
        "      x  = feature_map[0, :, :, i]\n",
        "      x -= x.mean()\n",
        "      x /= x.std ()\n",
        "      x *=  64\n",
        "      x += 128\n",
        "      x  = np.clip(x, 0, 255).astype('uint8')\n",
        "      \n",
        "      # Tile each filter into a horizontal grid\n",
        "      display_grid[:, i * size : (i + 1) * size] = x\n",
        "\n",
        "# Display the grid\n",
        "    scale = 20. / n_features\n",
        "    plt.figure( figsize=(scale * n_features, scale) )\n",
        "    plt.title ( layer_name )\n",
        "    plt.grid  ( False )\n",
        "    plt.imshow( display_grid, aspect='auto', cmap='viridis' )"
      ],
      "execution_count": null,
      "outputs": []
    },
    {
      "cell_type": "markdown",
      "metadata": {
        "id": "j-ZDNCfJswy3"
      },
      "source": [
        "## GUI"
      ]
    },
    {
      "cell_type": "code",
      "metadata": {
        "id": "LbqAFkWtsypd"
      },
      "source": [
        "import ipywidgets as widgets"
      ],
      "execution_count": null,
      "outputs": []
    },
    {
      "cell_type": "code",
      "metadata": {
        "id": "bTEob4DFszbn"
      },
      "source": [
        "widgets.FileUpload(\n",
        "    accept='image/*',  # Accepted file extension e.g. '.txt', '.pdf', 'image/*', 'image/*,.pdf'\n",
        "    multiple=False  # True to accept multiple files upload else False\n",
        ")"
      ],
      "execution_count": null,
      "outputs": []
    },
    {
      "cell_type": "code",
      "metadata": {
        "id": "iHmX_4-Btc3G"
      },
      "source": [
        "uploader = widgets.FileUpload()\n",
        "display(uploader)\n",
        "# upload something..."
      ],
      "execution_count": null,
      "outputs": []
    },
    {
      "cell_type": "code",
      "metadata": {
        "id": "uEAqM0VZvTMW"
      },
      "source": [
        "# once a file is uploaded, use the `.value` attribute to retrieve the content:\n",
        "uploader.value\n",
        "#=> (\n",
        "#=>   {\n",
        "#=>     'name': 'example.txt',\n",
        "#=>     'type': 'text/plain',\n",
        "#=>     'size': 36,\n",
        "#=>     'last_modified': datetime.datetime(2020, 1, 9, 15, 58, 43, 321000, tzinfo=datetime.timezone.utc),\n",
        "#=>     'content': <memory at 0x10c1b37c8>\n",
        "#=>   },\n",
        "#=> )"
      ],
      "execution_count": null,
      "outputs": []
    },
    {
      "cell_type": "code",
      "metadata": {
        "id": "Xqs2S-WYuK1X"
      },
      "source": [
        "uploaded_file = uploader.value[0]\n",
        "uploaded_file[\"size\"]\n",
        "#=> 36\n",
        "uploaded_file.size\n",
        "#=> 36\n",
        "{f[\"name\"]: f.content.tobytes() for f in uploader.value}"
      ],
      "execution_count": null,
      "outputs": []
    },
    {
      "cell_type": "code",
      "metadata": {
        "id": "oN9HUyTFuCNI"
      },
      "source": [
        ""
      ],
      "execution_count": null,
      "outputs": []
    }
  ]
}